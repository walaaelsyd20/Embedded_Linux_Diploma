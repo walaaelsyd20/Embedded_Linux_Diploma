{
 "cells": [
  {
   "cell_type": "markdown",
   "id": "6640ce07",
   "metadata": {},
   "source": [
    "## task_1_ a"
   ]
  },
  {
   "cell_type": "code",
   "execution_count": null,
   "id": "05725d73",
   "metadata": {},
   "outputs": [],
   "source": [
    "def count_fours(lst):\n",
    "    \"\"\"\n",
    "    Counts the number of occurrences of the number 4 in a given list.\n",
    "    \n",
    "    Args:\n",
    "        lst (list): The input list.\n",
    "        \n",
    "    Returns:\n",
    "        int: The count of the number 4 in the list.\n",
    "    \"\"\"\n",
    "    \n",
    "    count=0 \n",
    "    for num in lst:\n",
    "        if num == 4:\n",
    "            count+=1\n",
    "    return count  \n",
    "\n",
    "# Example usage\n",
    "mylst= [1,2,3,4,5,4,4,4,1,4,4]\n",
    "print(f\"Number of 4's in the list: {count_fours(mylst)}\")"
   ]
  },
  {
   "cell_type": "markdown",
   "id": "bdbc709b",
   "metadata": {},
   "source": [
    "## task_1_ b"
   ]
  },
  {
   "cell_type": "code",
   "execution_count": null,
   "id": "a3ad2ae0",
   "metadata": {},
   "outputs": [],
   "source": [
    "def is_vowel(letter):\n",
    "    \"\"\"\n",
    "    Checks whether a given letter is a vowel or not.\n",
    "    \n",
    "    Args:\n",
    "        letter (str): The input letter.\n",
    "        \n",
    "    Returns:\n",
    "        bool: True if the letter is a vowel, False otherwise.\n",
    "    \"\"\"\n",
    "    \n",
    "def is_vowel(letter): \n",
    "    vowels = 'aeiou'\n",
    "    return letter.lower() in vowels\n",
    "\n",
    "# Example usage\n",
    "letter = 'a'\n",
    "print(f\"Is '{letter}' a vowel? {is_vowel(letter)}\")\n",
    "\n",
    "letter = 'b'\n",
    "print(f\"Is '{letter}' a vowel? {is_vowel(letter)}\")\n",
    "\n",
    "letter = 'e'\n",
    "print(f\"is '{letter}' a vowel? {is_vowel(letter)}\")"
   ]
  },
  {
   "cell_type": "markdown",
   "id": "98903915",
   "metadata": {},
   "source": [
    "## task_1_ c"
   ]
  },
  {
   "cell_type": "code",
   "execution_count": null,
   "id": "7511a97d",
   "metadata": {},
   "outputs": [],
   "source": [
    "import os\n",
    "\n",
    "def get_env_variable(variable_name):\n",
    "    \"\"\"\n",
    "    Retrieves the value of an environment variable.\n",
    "    If the variable is not set, the function will return None.\n",
    "    \n",
    "    Args:\n",
    "        variable_name (str): The name of the environment variable.\n",
    "        \n",
    "    Returns:\n",
    "        str: The value of the environment variable, or None if the variable is not set.\n",
    "    \"\"\"\n",
    "    return os.getenv(variable_name)\n",
    "\n",
    "# Example usage\n",
    "print(get_env_variable('PATH'))# Output: The value of the PATH environment variable\n",
    "print(get_env_variable('MY_CUSTOM_VARIABLE'))  # Output: None (if the variable is not set)"
   ]
  },
  {
   "cell_type": "markdown",
   "id": "4608eef6",
   "metadata": {},
   "source": [
    "## task_2"
   ]
  },
  {
   "cell_type": "code",
   "execution_count": null,
   "id": "a5814f75",
   "metadata": {},
   "outputs": [],
   "source": [
    "import math\n",
    "\n",
    "def calculate_circle_area(radius):\n",
    "    \"\"\"\n",
    "    Calculates the area of a circle given its radius.\n",
    "    \n",
    "    Args:\n",
    "        radius (float): The radius of the circle.\n",
    "        \n",
    "    Returns:\n",
    "        float: The area of the circle.\n",
    "    \"\"\"\n",
    "    area = math.pi * radius ** 2\n",
    "    return area\n",
    "\n",
    "# Get the radius from the user\n",
    "radius = float(input(\"Enter the radius of the circle: \"))\n",
    "\n",
    "# Calculate and print the area\n",
    "circle_area = calculate_circle_area(radius)\n",
    "print(f\"The area of the circle with radius {radius} is {circle_area:.2f} square units.\")"
   ]
  },
  {
   "cell_type": "markdown",
   "id": "51c45724",
   "metadata": {},
   "source": [
    "## task_3"
   ]
  },
  {
   "cell_type": "code",
   "execution_count": null,
   "id": "8c31d897",
   "metadata": {},
   "outputs": [],
   "source": [
    "import calendar\n",
    "\n",
    "def print_calendar(year, month):\n",
    "    \"\"\"\n",
    "    Prints the calendar for the given month and year.\n",
    "    \n",
    "    Args:\n",
    "        year (int): The year.\n",
    "        month (int): The month (1-12).\n",
    "    \"\"\"\n",
    "    print(calendar.month(year, month))\n",
    "    \n",
    "# Get the month and year from the user\n",
    "year = int(input(\"Enter the year: \"))\n",
    "month = int(input(\"Enter the month (1-12): \"))\n",
    "\n",
    "# Print the calendar\n",
    "print_calendar(year, month)"
   ]
  },
  {
   "cell_type": "code",
   "execution_count": null,
   "id": "d6b8e149",
   "metadata": {},
   "outputs": [],
   "source": []
  }
 ],
 "metadata": {
  "kernelspec": {
   "display_name": "Python 3 (ipykernel)",
   "language": "python",
   "name": "python3"
  },
  "language_info": {
   "codemirror_mode": {
    "name": "ipython",
    "version": 3
   },
   "file_extension": ".py",
   "mimetype": "text/x-python",
   "name": "python",
   "nbconvert_exporter": "python",
   "pygments_lexer": "ipython3",
   "version": "3.9.12"
  }
 },
 "nbformat": 4,
 "nbformat_minor": 5
}
